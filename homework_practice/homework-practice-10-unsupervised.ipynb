{
 "cells": [
  {
   "cell_type": "markdown",
   "metadata": {
    "id": "euigdTiKg7DR"
   },
   "source": [
    "# Машинное обучение, ВМК МГУ\n",
    "\n",
    "# Практическое задание 3. Обучение без учителя.\n",
    "\n",
    "## Общая информация\n",
    "Дата выдачи: 13.04.2023\n",
    "\n",
    "Мягкий дедлайн: 27.04.2023 03:30 MSK **(за каждый день просрочки снимается 1 балл)**\n",
    "\n",
    "Жёсткий дедлайн: 04.05.2023 03:30 MSK\n",
    "\n",
    "## Оценивание и штрафы\n",
    "\n",
    "Каждая из задач имеет определенную «стоимость» (указана в скобках около задачи). Максимально допустимая оценка за работу — **10 баллов + 4.4 бонусов**.\n",
    "\n",
    "Сдавать задание после указанного срока сдачи нельзя. При выставлении неполного балла за задание в связи с наличием ошибок на усмотрение проверяющего предусмотрена возможность исправить работу на указанных в ответном письме условиях.\n",
    "\n",
    "Задание выполняется самостоятельно. «Похожие» решения считаются плагиатом и все задействованные студенты (в том числе те, у кого списали) не могут получить за него больше 0 баллов (подробнее о плагиате см. на странице курса). Если вы нашли решение какого-то из заданий (или его часть) в открытом источнике, необходимо указать ссылку на этот источник в отдельном блоке в конце вашей работы (скорее всего вы будете не единственным, кто это нашел, поэтому чтобы исключить подозрение в плагиате, необходима ссылка на источник).\n",
    "\n",
    "Неэффективная реализация кода может негативно отразиться на оценке.\n",
    "\n",
    "## Формат сдачи\n",
    "Задания сдаются через систему anytask. Посылка должна содержать:\n",
    "* Ноутбук homework-practice-03-Username.ipynb\n",
    "\n",
    "Username — ваша фамилия на латинице"
   ]
  },
  {
   "cell_type": "markdown",
   "metadata": {},
   "source": [
    "<p style=\"color:#de3815;font-size:25px;\">\n",
    "Напоминание об оформлении и выполнении ноутбука\n",
    "</p>\n",
    "\n",
    "* Все строчки должны быть выполнены. Нужно, чтобы output команды можно было увидеть, не запуская ячейки (кроме редких случаев, когда необходимо намеренно скрыть ненужный output, про такие случаи желательно писать пояснения в тексте). **В противном случае -1 балл**\n",
    "* При оформлении ДЗ нужно пользоваться данным файлом в качестве шаблона. Не нужно удалять и видоизменять написанный код и текст, если явно не указана такая возможность. **В противном случае -1 балл**\n",
    "* В anytask обязательно нужно прикреплять отдельно файл с расширением ipynb (не в архиве, а именно отдельно). Если необходимо отправить еще какие-то файлы, то вынесите их в отдельный архив (если файлов много) и пришлите. **В противном случае -0.5 балла**\n",
    "---\n",
    "* Пишите, пожалуйста, выводы и ответы на вопросы в текстовых ячейках/при помощи print в коде. При их отсутствии мы не можем понять, сделали ли вы задание и понимаете, что происходит, и **поэтому будем снижать баллы**\n",
    "* Если алгоритм не сказано реализовывать явно, его всегда можно импортировать из библиотеки.\n",
    "---\n",
    "* Про графики. _Штрафы будут применяться к каждому результату команды отображения графика (plt.show() и др. аналогичные). Исключением являются графики, генерируемые функциями каких-либо сторонних библиотек, если их нельзя кастомизировать_\n",
    "\n",
    "    * должно быть название (plt.title) графика; **В противном случае &ndash; -0.05 балла**\n",
    "    * на графиках должны быть подписаны оси (plt.xlabel, plt.ylabel); **В противном случае &ndash; -0.025 балла за каждую ось**\n",
    "    * должны быть подписаны единицы измерения (если это возможно); **В противном случае &ndash; -0.025 балла за каждую ось**\n",
    "    * все названия должны быть понятны любому человеку, знакомому с терминологией, без заглядывания в код; **В противном случае &ndash; -0.05 балла**\n",
    "    * подписи тиков на осях не должны сливаться как на одной оси, так и между ними; **В противном случае &ndash; -0.025 балла за каждую ось**\n",
    "    * если изображено несколько сущностей на одном холсте (например несколько функций), то необходима поясняющая легенда (plt.legend); **В противном случае &ndash; -0.05 балла**\n",
    "    * все линии на графиках должны быть чётко видны (нет похожих цветов или цветов, сливающихся с фоном); **В противном случае &ndash; -0.05 балла**\n",
    "    * если отображена величина, имеющая очевидный диапазон значений (например, проценты могут быть от 0 до 100), то желательно масштабировать ось на весь диапазон значений (исключением является случай, когда вам необходимо показать малое отличие, которое незаметно в таких масштабах);\n",
    "    * графики должны быть не супер-микро и не супер-макро по размерам, так, чтобы можно было увидеть все, что нужно.\n",
    "    * при необходимости улучшения наглядности графиков, можно пользоваться логарифмической шкалой по осям x/y.\n",
    "    "
   ]
  },
  {
   "cell_type": "markdown",
   "metadata": {},
   "source": [
    "### А также..\n",
    "\n",
    "* Для удобства поиска вопросов, на которые от вас просят ответа, мы пометили их знаком **(?)**\n",
    "* Знак **(!)** означает, что выполнение замечания необходимо для **возможности получения полного балла**\n",
    "* Даем до +0.3 баллов за выдающиеся успехи по субъективному мнению проверяющих. Этот **бонус** не апеллируется"
   ]
  },
  {
   "cell_type": "markdown",
   "metadata": {},
   "source": [
    "## О задании\n",
    "\n",
    "В этом задании мы посмотрим на несколько алгоритмов кластеризации и применим их к географическим и текстовым данным. Также мы подробно остановимся на тематическом моделировании текстов, задаче обучения представлений и в каком-то смысле поработаем с semi-supervised learning. \n",
    "\n"
   ]
  },
  {
   "cell_type": "markdown",
   "metadata": {},
   "source": [
    "**Замечание:**\n",
    "* seed менять нежелательно"
   ]
  },
  {
   "cell_type": "code",
   "execution_count": null,
   "metadata": {
    "id": "95cdXa4PX8ks"
   },
   "outputs": [],
   "source": [
    "import pandas as pd\n",
    "import numpy as np\n",
    "\n",
    "np.random.seed(0xFFFFFFF)"
   ]
  },
  {
   "cell_type": "markdown",
   "metadata": {
    "id": "vXRa3lV19H6P"
   },
   "source": [
    "**Задание 0 (0.05 балла)**. Опишите свои ощущения от домашки по ЕМ-алгоритму👺 (можно картинкой или мемом)."
   ]
  },
  {
   "cell_type": "code",
   "execution_count": null,
   "metadata": {
    "id": "b7cEgKmw9KHy"
   },
   "outputs": [],
   "source": [
    "# YOUR CODE HERE (ノಠ益ಠ)ノ彡┻━┻"
   ]
  },
  {
   "cell_type": "markdown",
   "metadata": {
    "id": "uK5GdpMuppA3"
   },
   "source": [
    "## Часть 1. Кластеризация автобусных остановок"
   ]
  },
  {
   "cell_type": "markdown",
   "metadata": {
    "id": "NVdORZxZiZTS"
   },
   "source": [
    "В этом задании мы сравним разные алгоритмы кластеризации для данных об автобусных остановках Москвы.\n",
    "\n",
    "**Задание 1.1 (1 балл).** Реализуйте алгоритм спектральной кластеризации, который упоминался на лекции/семинаре. Для этого разберитесь с кодом шаблона, данного ниже, и допишите недостающую функцию. Напомним, что для графа с матрицей смежности $W = \\{w_{ij}\\}_{i, j = 1 \\dots \\ell}$ лапласиан определяется как:\n",
    "\n",
    "$$\n",
    "L = D - W,\n",
    "$$\n",
    "\n",
    "где $D = \\text{diag}(d_1, ..., d_{\\ell}), d_i = \\sum_{j=1}^{\\ell} w_{ij}$."
   ]
  },
  {
   "cell_type": "code",
   "execution_count": null,
   "metadata": {
    "id": "8uVuBJPBixGT"
   },
   "outputs": [],
   "source": [
    "from sklearn.base import ClusterMixin\n",
    "from sklearn.cluster import KMeans\n",
    "\n",
    "\n",
    "class GraphClustering(ClusterMixin):\n",
    "    def __init__(self, n_clusters=8, n_components=None, **kwargs):\n",
    "        '''\n",
    "        Spectral clustering algorithm\n",
    "        param n_clusters: number of clusters to form\n",
    "        param n_components: number of eigenvectors to use\n",
    "        '''\n",
    "\n",
    "        if n_components is None:\n",
    "            n_components = n_clusters\n",
    "\n",
    "        self.n_components = n_components\n",
    "        self.kmeans = KMeans(n_clusters=n_clusters, **kwargs)\n",
    "\n",
    "    def fit_predict(self, X, y=None):\n",
    "        '''\n",
    "        Perform spectral clustering from graph adjacency matrix\n",
    "        and return vertex labels.\n",
    "        param X: (n_samples, n_samples) - graph adjacency matrix\n",
    "        return: (n_samples, ) - vertex labels\n",
    "        '''\n",
    "\n",
    "        eigenvectors = self._generate_eigenvectors(X)\n",
    "        labels = self.kmeans.fit_predict(eigenvectors[:, 1:])\n",
    "        return labels\n",
    "\n",
    "    def _generate_eigenvectors(self, X):\n",
    "        '''\n",
    "        Compute eigenvectors for spectral clustering\n",
    "        param X: (n_samples, n_samples) - graph adjacency matrix\n",
    "        return: (n_samples, n_components) - eigenvectors\n",
    "        '''\n",
    "\n",
    "        # YOUR CODE HERE ‿︵‿︵ヽ(°□° )ノ︵‿︵‿\n",
    "        raise NotImplementedError"
   ]
  },
  {
   "cell_type": "markdown",
   "metadata": {
    "id": "MOFgh62FoKPB"
   },
   "source": [
    "Перед тем, как переходить к следующему заданию, протестируйте свое решение."
   ]
  },
  {
   "cell_type": "code",
   "execution_count": null,
   "metadata": {
    "id": "HvMVPvHYoPw_"
   },
   "outputs": [],
   "source": [
    "n_blocks, n_vertices = 10, 1000\n",
    "block_vertices = n_vertices // n_blocks\n",
    "\n",
    "X = np.zeros((n_vertices, n_vertices))\n",
    "for i in range(0, n_vertices, block_vertices):\n",
    "    X[i:i + block_vertices, i:i + block_vertices] = np.sqrt(i + 1)\n",
    "\n",
    "graph_clustering = GraphClustering(n_clusters=n_blocks)\n",
    "labels = graph_clustering.fit_predict(X)\n",
    "\n",
    "true_labels = np.zeros(n_vertices, dtype=np.int32)\n",
    "for i in range(0, n_vertices, block_vertices):\n",
    "    true_labels[i:i + block_vertices] = labels[i]\n",
    "\n",
    "assert labels.shape == (n_vertices, )\n",
    "assert np.all(np.bincount(labels) == np.full(n_blocks, block_vertices))\n",
    "assert np.all(labels == true_labels)"
   ]
  },
  {
   "cell_type": "markdown",
   "metadata": {},
   "source": [
    "**Замечание**\n",
    "* Для возможности получения **полного балла** assert должны проходить"
   ]
  },
  {
   "cell_type": "markdown",
   "metadata": {
    "id": "7ueXlg87of70"
   },
   "source": [
    "Теперь можем приступить к работе с реальными данными. Скачайте файл с данными об остановках общественного транспорта **в формате .xlsx** по [ссылке](https://data.mos.ru/opendata/download/60464/1/201) (так гарантированно не возникнет проблем с парсингом файла) и загрузите таблицу в ноутбук. Если вдруг сайт Правительства Москвы сойдет с ума, то возьмите какую-нибудь версию данных [отсюда](https://data.mos.ru/opendata/7704786030-city-surface-public-transport-stops). Для удобства визуализации мы будем работать только с остановками в ЦАО."
   ]
  },
  {
   "cell_type": "markdown",
   "metadata": {},
   "source": [
    "**Замечание**\n",
    "* (?) Напишите, пожалуйста, откуда в итоге скачивали данные. "
   ]
  },
  {
   "cell_type": "code",
   "execution_count": null,
   "metadata": {
    "id": "6WWxngQO8Jt3"
   },
   "outputs": [],
   "source": [
    "data = pd.read_excel('transport.xlsx')\n",
    "data = data[data.AdmArea_en == \"Czentral`ny'j administrativny'j okrug\"]\n",
    "data = data.reset_index()\n",
    "data.head()"
   ]
  },
  {
   "cell_type": "markdown",
   "metadata": {
    "id": "bEJdUfnY9qFj"
   },
   "source": [
    "Воспользуемся библиотекой `folium` для визуализации данных."
   ]
  },
  {
   "cell_type": "code",
   "execution_count": null,
   "metadata": {
    "id": "KosUV23W9xgn"
   },
   "outputs": [],
   "source": [
    "import folium\n",
    "\n",
    "map_ = folium.Map([55.75215, 37.61819], zoom_start=12)\n",
    "for id, row in data.iterrows():\n",
    "    folium.Circle([row.Latitude_WGS84_en, row.Longitude_WGS84_en],\n",
    "                  radius=10).add_to(map_)\n",
    "map_"
   ]
  },
  {
   "cell_type": "markdown",
   "metadata": {
    "id": "s4oB0OQk-MLP"
   },
   "source": [
    "**Задание 1.2 (1 балл).** Попробуем построить граф, в котором вершинами будут остановки. Как вы уже могли заметить, для каждой остановки указаны номера маршрутов, проходящих через неё. Логично соединить ребрами соседние остановки каждого маршрута. Однако мы не знаем, в каком порядке автобусы объезжают остановки. Но мы можем применить эвристический алгоритм, который восстановит нам порядок маршрутов:\n",
    "\n",
    "* Для каждого маршрута выделим список всех остановок, через которые он проходит.\n",
    "* Выберем начальную остановку маршрута как точку, наиболее удаленную от всех остальных остановок этого маршрута.\n",
    "* Каждую следующую точку маршрута будем выбирать из оставшихся (не включенных еще в маршрут) точек, как самую близкую к последней найденной точке (последней, включенной в маршрут)\n",
    "\n",
    "Фактически, у нас получается жадное решение задачи коммивояжера. Когда мы отсортировали маршруты, можем построить по ним граф. Будем строить его по таким правилам:\n",
    "\n",
    "* Между двумя остановками будет ребро, если они являются соседними хотя бы на одном маршруте. Вес ребра равен числу маршрутов, на которых остановки являются соседними.\n",
    "* В графе не будет петель (то есть у матрицы смежности будет нулевая диагональ).\n",
    "\n",
    "Реализуйте предложенный способ построения графа. Для этого рекомендуется воспользоваться шаблонами, приведенными ниже."
   ]
  },
  {
   "cell_type": "code",
   "execution_count": null,
   "metadata": {
    "id": "sJTwEzjitM0c"
   },
   "outputs": [],
   "source": [
    "def get_routes(data):\n",
    "    '''\n",
    "    Accumulate routes from raw data\n",
    "    param data: pd.DataFrame - public transport stops data\n",
    "    return: dict - unsorted stops ids for each route,\n",
    "                   e.g. routes['A1'] = [356, 641, 190]\n",
    "    '''\n",
    "\n",
    "    # YOUR CODE HERE ‿︵‿︵ヽ(°□° )ノ︵‿︵‿\n",
    "    raise NotImplementedError\n",
    "\n",
    "\n",
    "def sort_routes(data, routes):\n",
    "    '''\n",
    "    Sort routes according to the proposed algorithm\n",
    "    param data: pd.DataFrame - public transport stops data\n",
    "    param routes: dict - unsorted stops ids for each route\n",
    "    return: dict - sorted stops ids for each route\n",
    "    '''\n",
    "\n",
    "    # YOUR CODE HERE ‿︵‿︵ヽ(°□° )ノ︵‿︵‿\n",
    "    raise NotImplementedError\n",
    "\n",
    "\n",
    "def get_adjacency_matrix(data, sorted_routes):\n",
    "    '''\n",
    "    Compute adjacency matrix for sorted routes\n",
    "    param data: pd.DataFrame - public transport stops data\n",
    "    param sorted_routes: dict - sorted stops ids for each route\n",
    "    return: (n_samples, n_samples) - graph adjacency matrix\n",
    "    '''\n",
    "\n",
    "    # YOUR CODE HERE ‿︵‿︵ヽ(°□° )ノ︵‿︵‿\n",
    "    raise NotImplementedError"
   ]
  },
  {
   "cell_type": "code",
   "execution_count": null,
   "metadata": {
    "id": "l2fMkb9VwBIr"
   },
   "outputs": [],
   "source": [
    "routes = get_routes(data)\n",
    "sorted_routes = sort_routes(data, routes)\n",
    "adjacency_matrix = get_adjacency_matrix(data, sorted_routes)"
   ]
  },
  {
   "cell_type": "markdown",
   "metadata": {
    "id": "Ot-EUmMKwEx1"
   },
   "source": [
    "Проверим, что маршруты получились адекватными. Для этого нарисуем их на карте."
   ]
  },
  {
   "cell_type": "code",
   "execution_count": null,
   "metadata": {
    "id": "P1d67q5oxPHs"
   },
   "outputs": [],
   "source": [
    "map_ = folium.Map([55.75215, 37.61819], zoom_start=12)\n",
    "for route_id in np.random.choice(list(sorted_routes.keys()), size=5):\n",
    "    coords = data.loc[\n",
    "        sorted_routes[route_id],\n",
    "        ['Latitude_WGS84_en', 'Longitude_WGS84_en']\n",
    "    ].values.tolist()\n",
    "    folium.vector_layers.PolyLine(coords).add_to(map_)\n",
    "\n",
    "map_"
   ]
  },
  {
   "cell_type": "markdown",
   "metadata": {
    "id": "c03XzwlS_bmU"
   },
   "source": [
    "**Задание 1.3 (0 баллов)**. Реализуйте функцию `draw_clustered_map`, которая рисует карту центра Москвы с кластерами остановок, раскрашенными в разные цвета."
   ]
  },
  {
   "cell_type": "code",
   "execution_count": null,
   "metadata": {
    "id": "fwA4RxiC65Xn"
   },
   "outputs": [],
   "source": [
    "def draw_clustered_map(data, labels):\n",
    "    '''\n",
    "    Create map with coloured clusters\n",
    "    param data: pd.DataFrame - public transport stops data\n",
    "    param labels: (n_samples, ) - cluster labels for each stop\n",
    "    return: folium.Map - map with coloured clusters\n",
    "    '''\n",
    "\n",
    "    # YOUR CODE HERE ‿︵‿︵ヽ(°□° )ノ︵‿︵‿\n",
    "    raise NotImplementedError"
   ]
  },
  {
   "cell_type": "markdown",
   "metadata": {
    "id": "wYnX3Ws__ga0"
   },
   "source": [
    "**Задание 1.4 (1.5 балла)**. \n",
    "\n",
    "* **(0.25 балла)** Примените алгоритмы кластеризации K-Means и DBSCAN из `sklearn` на координатах остановок, а также свою реализацию спектральной кластеризации на построенной выше матрице смежности. В этом пункте используйте дефолтные параметры.\n",
    "* **(0.25 балла)** Визуализируйте результат кластеризации из предыдущего пункта с помощью функции `draw_clustered_map`.\n",
    "* **(0.75 балла)** А теперь подберите с помощью **кросс-валидации** параметры алгоритмов (`n_clusters` у K-Means, `eps` у DBSCAN, `n_clusters` и `n_components` у спектральной кластеризации) так, чтобы получить наиболее характерный для этих алгоритмов результат кластеризации. В качестве метрики качества можете использовать `silhouette_score`. Визуализируйте полученные результаты для всех трех алгоритмов на *оптимальных параметрах*\n",
    "* (?) Проинтерпретируйте полученные результаты.\n",
    " * **(0.1 балла)** Чем отличаются разбиения на кластеры, получаемые разными алгоритмами?\n",
    " * **(0.1 балла)** Какие плюсы и минусы есть у каждого алгоритма?\n",
    " * **(0.05 балла)** Какой алгоритм кажется вам наиболее подходящим для кластеризации остановок?\n",
    "\n",
    "**Подсказка:**\n",
    "* Не забудьте, что DBSCAN помечает некоторые точки как шумовые (можно раскрасить их в отдельный цвет).\n",
    "* Обращайте внимание на баланс объектов в кластерах."
   ]
  },
  {
   "cell_type": "code",
   "execution_count": null,
   "metadata": {
    "id": "RliT89AL8vA9"
   },
   "outputs": [],
   "source": [
    "# YOUR CODE HERE ‿︵‿︵ヽ(°□° )ノ︵‿︵‿"
   ]
  },
  {
   "cell_type": "markdown",
   "metadata": {
    "id": "DIZIvcM8BF_I"
   },
   "source": [
    "**Ваш ответ здесь:**"
   ]
  },
  {
   "cell_type": "markdown",
   "metadata": {},
   "source": [
    "-----"
   ]
  },
  {
   "cell_type": "markdown",
   "metadata": {
    "id": "Pr3WXyPBptaN"
   },
   "source": [
    "## Часть 2. Тематическое моделирование текстов"
   ]
  },
  {
   "cell_type": "markdown",
   "metadata": {
    "id": "lh2yJqxhigf4"
   },
   "source": [
    "В этой части мы познакомимся с одной из самых популярных задач обучения без учителя &mdash; с задачей тематического моделирования текстов. Допустим, нам доступна некоторая коллекция документов без разметки, и мы хотим автоматически выделить несколько тем, которые встречаются в документах, а также присвоить каждому документу одну (или несколько) тем. Фактически, мы будем решать задачу, похожую на кластеризацию текстов: отличие в том, что нас будет интересовать не только разбиение текстов на группы, но и выделение ключевых слов, определяющих каждую тему.\n",
    "\n",
    "Мы будем работать с новостными статьями BBC за 2004-2005 годы. Скачайте данные по [ссылке](https://www.kaggle.com/hgultekin/bbcnewsarchive)."
   ]
  },
  {
   "cell_type": "code",
   "execution_count": null,
   "metadata": {
    "id": "UMefb5XsixgH"
   },
   "outputs": [],
   "source": [
    "data = pd.read_csv('bbc-news-data.csv', sep='\\t')\n",
    "data.sample(5)"
   ]
  },
  {
   "cell_type": "markdown",
   "metadata": {
    "id": "xMiigCjtY0yh"
   },
   "source": [
    "Как вы могли заметить, данные уже содержат разметку по тематике (колонка category). В этой части мы забудем, что она есть🙈, и будем работать только с текстовыми данными. Проведем предобработку текста, состоящую из следующих пунктов:\n",
    "\n",
    "* Объединим заголовок и содержание статьи в одно поле.\n",
    "* Приведем текст к нижнему регистру, разобьем его на токены.\n",
    "* Оставим только буквенные слова (удалив, таким образом, пунктуацию и числа).\n",
    "* Применим лемматизацию.\n",
    "* Удалим стоп-слова.\n"
   ]
  },
  {
   "cell_type": "code",
   "execution_count": null,
   "metadata": {
    "id": "XpSY0M7kbIdl"
   },
   "outputs": [],
   "source": [
    "import nltk\n",
    "from nltk.corpus import stopwords\n",
    "from nltk.tokenize import word_tokenize\n",
    "from nltk.stem import WordNetLemmatizer"
   ]
  },
  {
   "cell_type": "code",
   "execution_count": null,
   "metadata": {
    "id": "Sk3yw5aNbRgi"
   },
   "outputs": [],
   "source": [
    "nltk.download('punkt')\n",
    "nltk.download('wordnet')\n",
    "nltk.download('stopwords')\n",
    "\n",
    "stop_words = set(stopwords.words('english') + ['ha', 'wa', 'say', 'said'])\n",
    "lemmatizer = WordNetLemmatizer()"
   ]
  },
  {
   "cell_type": "code",
   "execution_count": null,
   "metadata": {
    "id": "nbMsHeS2bV2l"
   },
   "outputs": [],
   "source": [
    "def preprocess(text):\n",
    "    text = list(filter(str.isalpha, word_tokenize(text.lower())))\n",
    "    text = list(lemmatizer.lemmatize(word) for word in text)\n",
    "    text = list(word for word in text if word not in stop_words)\n",
    "    return ' '.join(text)"
   ]
  },
  {
   "cell_type": "code",
   "execution_count": null,
   "metadata": {
    "id": "xhICemtQbg0o"
   },
   "outputs": [],
   "source": [
    "data['raw_text'] = data.apply(lambda row: row.title + row.content, axis=1)\n",
    "data['text'] = data.apply(lambda row: preprocess(row.raw_text), axis=1)"
   ]
  },
  {
   "cell_type": "markdown",
   "metadata": {
    "id": "i0O5ygZPcTkl"
   },
   "source": [
    "Для визуализации частот слов в текстах мы будем использовать [облака тегов](https://en.wikipedia.org/wiki/Tag_cloud)."
   ]
  },
  {
   "cell_type": "code",
   "execution_count": null,
   "metadata": {
    "id": "jRo7Q2bXczEZ"
   },
   "outputs": [],
   "source": [
    "from wordcloud import WordCloud\n",
    "\n",
    "def draw_wordcloud(texts, max_words=1000, width=1000, height=500):\n",
    "    wordcloud = WordCloud(background_color='white', max_words=max_words,\n",
    "                          width=width, height=height)\n",
    "    \n",
    "    joint_texts = ' '.join(list(texts))\n",
    "    wordcloud.generate(joint_texts)\n",
    "    return wordcloud.to_image()"
   ]
  },
  {
   "cell_type": "code",
   "execution_count": null,
   "metadata": {
    "id": "bTnO8HwGdSvA"
   },
   "outputs": [],
   "source": [
    "draw_wordcloud(data.text)"
   ]
  },
  {
   "cell_type": "markdown",
   "metadata": {},
   "source": [
    "-----"
   ]
  },
  {
   "cell_type": "markdown",
   "metadata": {
    "id": "2MoyLGx-dcjF"
   },
   "source": [
    "**Задание 2.1 (1 балл).** \n",
    "\n",
    "* **(0.5 балла)** Обучите алгоритм K-Means на tf-idf представлениях текстов. \n",
    "* **(0.25 балла)** Постройте облака тегов для текстов из разных кластеров.\n",
    "* **(0.25 балла)** (?) Получились ли темы интерпретируемыми? (?) Попробуйте озаглавить каждую тему.\n",
    "\n",
    "**Подсказки:**\n",
    "* Можно использовать готовую реализацию tf-idf векторайзера из sklearn\n",
    "* При обучении tf-idf векторайзера рекомендуется отбрасывать редко встречающиеся слова.\n",
    "* Воздержитесь от использования N-грамм при обучении tf-idf.\n",
    "* Возьмите не очень большое число кластеров, чтобы было удобно интерпретировать получившиеся темы (например, `n_clusters` = 8).\n",
    "\n",
    "**Ключевые слова:**\n",
    "* *TfidfVectorizer*"
   ]
  },
  {
   "cell_type": "code",
   "execution_count": null,
   "metadata": {
    "id": "Cr65aXYRU7f2"
   },
   "outputs": [],
   "source": [
    "# YOUR CODE HERE ‿︵‿︵ヽ(°□° )ノ︵‿︵‿"
   ]
  },
  {
   "cell_type": "markdown",
   "metadata": {},
   "source": [
    "**Ваш ответ здесь:**"
   ]
  },
  {
   "cell_type": "markdown",
   "metadata": {},
   "source": [
    "-----"
   ]
  },
  {
   "cell_type": "markdown",
   "metadata": {
    "id": "b41ggvxRU_Oc"
   },
   "source": [
    "**Задание 2.2 (0.5 балла).** Попробуем другой способ выделить ключевые слова для каждой темы. Помимо непосредственного разбиения объектов алгоритм K-Means получает центр каждого кластера (`kmeans.cluster_centers_`). \n",
    "\n",
    "* **(0.3 балла)** Попробуйте взять центры кластеров и посмотреть на слова, для которых значения соответствующих им признаков tf-idf максимальны.\n",
    "* **(0.2 балла)** (?) Согласуются ли полученные слова с облаками тегов из прошлого задания?"
   ]
  },
  {
   "cell_type": "code",
   "execution_count": null,
   "metadata": {
    "id": "EYm-9i2bX7tJ"
   },
   "outputs": [],
   "source": [
    "# YOUR CODE HERE ‿︵‿︵ヽ(°□° )ノ︵‿︵‿"
   ]
  },
  {
   "cell_type": "markdown",
   "metadata": {},
   "source": [
    "**Ваш ответ здесь:**"
   ]
  },
  {
   "cell_type": "markdown",
   "metadata": {},
   "source": [
    "-----"
   ]
  },
  {
   "cell_type": "markdown",
   "metadata": {
    "id": "cjiogHYuYB0p"
   },
   "source": [
    "**Задание 2.3 (1.5 балла).** В первой части мы сравнили три разных алгоритма кластеризации на географических данных. Проделаем то же самое для текстовых данных (в качестве признакого описания снова используем tf-idf). \n",
    "\n",
    "* п.1 Получите три разбиения на кластеры с помощью алгоритмов K-Means, DBSCAN и спектральной кластеризации. \n",
    " * **(0.3 балла)** При этом для K-Means и спектральной кластеризации возьмите одинаковое небольшое число кластеров;\n",
    " * **(0.5 балла)** Подберите параметр `eps` метода DBSCAN так, чтобы получить приблизительно такое же число кластеров.\n",
    "* п.2 **(0.5 балла)** Обучите двухмерные t-SNE ([Почитать можно тут, часть 2](https://github.com/esokolov/ml-course-hse/blob/master/2020-fall/lecture-notes/lecture11-unsupervised.pdf), а также посмотреть непосредственно в [sklearn](https://scikit-learn.org/stable/modules/generated/sklearn.manifold.TSNE.html)) представления над tf-idf признаками текстов. Визуализируйте эти представления для каждого алгоритма, раскрасив каждый кластер своим цветом.\n",
    "* п.3 **(0.2 балла)** (?) Прокомментируйте получившиеся результаты. (?) Какой баланс кластеров получился у разных методов? (?) Соотносятся ли визуализации для текстов с визуализациями для географических данных?\n",
    "\n",
    "\n",
    "**Замечания:**\n",
    "* В этом задании используйте реализации спектральной кластеризации и t-SNE из `sklearn`\n",
    "* В п.2 Лучше всего расположить визуализации на одном графике на трех разных сабплотах. \n",
    "\n",
    "**Подсказка:**\n",
    "* Не забудьте, что DBSCAN помечает некоторые точки как шумовые (можно раскрасить их в отдельный цвет)."
   ]
  },
  {
   "cell_type": "code",
   "execution_count": null,
   "metadata": {
    "id": "B0fA0yEOYg_e"
   },
   "outputs": [],
   "source": [
    "# YOUR CODE HERE ‿︵‿︵ヽ(°□° )ノ︵‿︵‿"
   ]
  },
  {
   "cell_type": "markdown",
   "metadata": {
    "id": "SZo8daJrcyTR"
   },
   "source": [
    "**Ваш ответ здесь:**"
   ]
  },
  {
   "cell_type": "markdown",
   "metadata": {},
   "source": [
    "-----"
   ]
  },
  {
   "cell_type": "markdown",
   "metadata": {
    "id": "j7zArHv6dsVg"
   },
   "source": [
    "**Задание 2.4 (1.5 балла).** \n",
    "\n",
    "* **(0.5 балла)**  Обучите модель латентного размещения Дирихле (LDA).\n",
    "* **(0.5 балла)**  Придумайте как превратить распределение тем для текста в номер его кластера. Опишите текстом (?) и приведите код и результаты его работы\n",
    "* **(0.5 балла)** Возьмите параметр `n_components` у LDA в 2-3 раза больше, чем число кластеров для K-Means, и вновь посмотрите на темы. (?) Получились ли темы более узкими от такого нововведения? Постройте облака тегов для нескольких наиболее удачных тем.\n",
    "\n",
    "**Замечания:**\n",
    "* Реализацию LDA во всех заданиях используйте из `sklearn` (LatentDirichletAllocation)\n",
    "\n",
    "**Подсказка:**\n",
    "* Не забудьте, что LDA работает с мешком слов, а не с tf-idf признаками.\n",
    "\n",
    "**Ключевые слова:**\n",
    "* *CountVectorizer,  LatentDirichletAllocation*"
   ]
  },
  {
   "cell_type": "code",
   "execution_count": null,
   "metadata": {
    "id": "bGw_tnc_dwgT"
   },
   "outputs": [],
   "source": [
    "# YOUR CODE HERE ‿︵‿︵ヽ(°□° )ノ︵‿︵‿"
   ]
  },
  {
   "cell_type": "markdown",
   "metadata": {},
   "source": [
    "**Ваш ответ здесь:**"
   ]
  },
  {
   "cell_type": "markdown",
   "metadata": {},
   "source": [
    "-----"
   ]
  },
  {
   "cell_type": "markdown",
   "metadata": {
    "id": "TfWNOqFZii3J"
   },
   "source": [
    "## Часть 3. Transfer learning для задачи классификации текстов"
   ]
  },
  {
   "cell_type": "markdown",
   "metadata": {},
   "source": [
    "**Замечание для всей части 3:**\n",
    "* Для возможности получения **полного балла** accuracy всех алгоритмов на тесте должны быть не ниже 0.75, а также хотя бы один из рассмотренных в этой части алгоритмов должен достигнуть точности не менее 0.95 на тесте."
   ]
  },
  {
   "cell_type": "markdown",
   "metadata": {
    "id": "4clP98BXGLax"
   },
   "source": [
    "**Задание 3.1 (0.5 балла).** Вспомним, что у нас есть разметка для тематик статей 🌚🌝. Попробуем обучить классификатор поверх unsupervised-представлений для текстов. Рассмотрите три модели:\n",
    "\n",
    "* Логистическая регрессия на tf-idf признаках\n",
    "* K-Means на tf-idf признаках + логистическая регрессия на расстояниях до центров кластеров\n",
    "* Латентное размещение Дирихле + логистическая регрессия на вероятностях тем\n",
    "\n",
    "* **(0.4 балла)** Разделите выборку на обучающую и тестовую, замерьте accuracy на обоих выборках для всех трех моделей. Параметры всех моделей возьмите равными значениям по умолчанию.\n",
    "* **(0.1 балла)** (?) У какой модели получилось лучшее качество? (?) С чем это связано?\n",
    "\n",
    "**Подсказка:**\n",
    "* Во второй модели расстояния до центров кластеров можно получиться при помощи метода KMeans.transform\n",
    "\n",
    "**Ключевые слова:**\n",
    "* *OrdinalEncoder, TfidfVectorizer, CountVectorizer, train_test_split, KMeans.transform*"
   ]
  },
  {
   "cell_type": "code",
   "execution_count": null,
   "metadata": {
    "id": "G7KiHqfkhO_R"
   },
   "outputs": [],
   "source": [
    "# YOUR CODE HERE ‿︵‿︵ヽ(°□° )ノ︵‿︵‿"
   ]
  },
  {
   "cell_type": "markdown",
   "metadata": {
    "id": "YsbJHnR8gzHX"
   },
   "source": [
    "**Ваш ответ здесь:**"
   ]
  },
  {
   "cell_type": "markdown",
   "metadata": {},
   "source": [
    "-----"
   ]
  },
  {
   "cell_type": "markdown",
   "metadata": {
    "id": "18vaNs6XGScR"
   },
   "source": [
    "**Задание 3.2 (1.5 балла).** Теперь просимулируем ситуацию слабой разметки, которая часто встречается в реальных данных. Разделим обучающую выборку в пропорции 5:65:30. Будем называть части, соответственно, размеченный трейн, неразмеченный трейн и валидация.\n",
    "\n",
    "Все unsupervised-алгоритмы (векторайзеры (tf-idf, bag_of_words) и алгоритмы кластеризации (KMeans)) запускайте на всем трейне целиком (размеченном и неразмеченном, суммарно 70%), а итоговый классификатор обучайте только на размеченном трейне (5%).\n",
    "\n",
    "* **(1.2 балла)** Подберите гиперпараметры моделей по качеству на валидации (30%), а затем оцените качество на тестовой выборке (которая осталась от прошлого задания). Не скромничайте при подборе числа кластеров, сейчас нас интересует не интерпретируемое разбиение выборки, а итоговое качество классификации. \n",
    "* **(0.3 балла)** (?) Как изменились результаты по сравнению с обучением на полной разметке? (?) Сделайте выводы.\n",
    "\n",
    "**Пояснение:**\n",
    "* Тестовую выборку возьмите из задания 3.1. А разделять надо тренировочную из 3.1\n",
    "* Обучаете векторайзер на 70%, применяете векторайзер к 5%, и на этих 5% уже обучаете классификатор.\n",
    "* Итак, берем 3 варианта обучения из задания 3.1. Вы должны:\n",
    " * 1-я модель. Подобрать оптимальный гиперпараметр С у LogisticRegression на tf-idf признаках. Выбираем оптимальный параметр по валидационной выборке. Далее оцениваем обученную модель с оптимальном параметром на тесте.\n",
    " * 2-я модель. Шаг 1. Подобрать оптимальный гиперпараметр n_clusters у KMeans на tf-idf признаках: перебираем значения n_clusters и при каждом значении обучаем LogisticRegression на дефолтных параметрах (быть может с ограничением max_iter, об этом ниже). То есть классификатор в данном случае будет на одинаковых параметрах для всех представителей семейства алгоритмов KMeans. Далее выбираете оптимальный n_clusters по качеству классификатора на валидационной выборке. Шаг 2. Обучаете KMeans с оптимальным n_clusters и перебираете значение C у LogisticRegression. Также выбираете оптмальное по валидации. И только после двух подобранных оптимальных параметров выводите качество на тесте.\n",
    " * 3-я модель. Аналогично второй, только вместо KMeans --- LatentDirichletAllocation, а вместо tf-idf -- bag of words.\n",
    "\n",
    "**Замечания:**\n",
    "* Параметр $С$ у LogisticRegression перебирайте *по логарифмической сетке.* Обратите внимание, что $С$ НЕ перед регуляризатором, поэтому, скорее всего, наиболее оптимальными будут большие значения $C$. **Для возможности получения полного балла** переберите хотя бы 20 параметров, и затроньте значения в 1e-2 и 1e6 (по большей части значения должны лежать в этом отрезке)\n",
    "* **Для возможности получения полного балла** параметр n_clusters у KMeans при переборе должен затрагивать значения в 10 и 1000 кластеров (по большей части значения должны лежать в этом отрезке), а также должно быть перебрано не менее 20 значений кластеров *(по линейной сетке)*\n",
    "* **Для возможности получения полного балла** параметр n_components у LDA при переборе должен затрагивать значения в 5 и 14 (по большей части значения должны лежать в этом отрезке), а также должно быть перебрано не меньше 10 различных значений *(по линейной сетке)*\n",
    "\n",
    "**Подсказка:**\n",
    "* Может быть для ограничения времени обучения лучше будет ограничить параметр max_iter в LogisticRegression, равным, например, 1000"
   ]
  },
  {
   "cell_type": "code",
   "execution_count": null,
   "metadata": {
    "id": "n45ZJCDAGTQG"
   },
   "outputs": [],
   "source": [
    "# YOUR CODE HERE ‿︵‿︵ヽ(°□° )ノ︵‿︵‿"
   ]
  },
  {
   "cell_type": "markdown",
   "metadata": {
    "id": "PMP7BslkkYAl"
   },
   "source": [
    "**Ваш ответ здесь:**"
   ]
  },
  {
   "cell_type": "markdown",
   "metadata": {},
   "source": [
    "-----"
   ]
  },
  {
   "cell_type": "markdown",
   "metadata": {
    "id": "KTL9sgADKKah"
   },
   "source": [
    "## Бонус"
   ]
  },
  {
   "cell_type": "markdown",
   "metadata": {
    "id": "fkAs4eBx8CXr"
   },
   "source": [
    "**Задание 4 (1 балл)**. \n",
    "\n",
    "* **(Максимум 0.8 балла, 0.4 балла за каждый исследованный метод)** Разберитесь с semi-supervised методами, которые реализованы в `sklearn` и примените их к заданию 3.2. \n",
    "* **(0.2 балла)** (?) Получилось ли добиться лучшего качества? (?) Сделайте выводы."
   ]
  },
  {
   "cell_type": "code",
   "execution_count": null,
   "metadata": {
    "id": "OHTs3_ssKVG7"
   },
   "outputs": [],
   "source": [
    "# YOUR CODE HERE ‿︵‿︵ヽ(°□° )ノ︵‿︵‿"
   ]
  },
  {
   "cell_type": "markdown",
   "metadata": {
    "id": "dOI6tcLoKVoS"
   },
   "source": [
    "**Задание 5 (1 балл)**. Существует метрика BCubed ([Ссылка 1](https://github.com/esokolov/ml-course-hse/blob/master/2020-spring/lecture-notes/lecture17-clusterization.pdf), [Ссылка 2](https://www.researchgate.net/profile/Julio-Gonzalo-2/publication/225548032_Amigo_E_Gonzalo_J_Artiles_J_et_alA_comparison_of_extrinsic_clustering_evaluation_metrics_based_on_formal_constraints_Inform_Retriev_12461-486/links/0c96052138dbb99740000000/Amigo-E-Gonzalo-J-Artiles-J-et-alA-comparison-of-extrinsic-clustering-evaluation-metrics-based-on-formal-constraints-Inform-Retriev-12461-486.pdf)), которая хорошо подходит для сравнения алгоритмов кластеризации, если нам известно настоящее разделение на кластеры (gold standard). \n",
    "\n",
    "* **(0.2 балла)** Реализуйте подсчет метрики BCubed\n",
    "* **(0.8 балла)** (?) Сравните несколько алгоритмов кластеризации на текстовых данных из основного задания. В качестве gold standard используйте разметку category.\n",
    "\n",
    "**Замечание:**\n",
    "* Пользоваться готовыми библиотечными методами для вычисления BCubed нельзя"
   ]
  },
  {
   "cell_type": "code",
   "execution_count": null,
   "metadata": {
    "id": "hQtZe7Ty847i"
   },
   "outputs": [],
   "source": [
    "# YOUR CODE HERE ‿︵‿︵ヽ(°□° )ノ︵‿︵‿"
   ]
  },
  {
   "cell_type": "markdown",
   "metadata": {},
   "source": [
    "**Ваш ответ здесь:**"
   ]
  },
  {
   "cell_type": "markdown",
   "metadata": {
    "id": "l9oePmfZKc7s"
   },
   "source": [
    "**Задание 6 (2 баллa)**. Спектральная кластеризация, по сути, является обычной кластеризацией KMeans поверх эмбеддингов объектов, которые получаются из лапласиана графа. А что, если мы попробуем построить эмбеддинги каким-нибудь другим способом? В этом задании мы предлагаем вам проявить немного фантазии🧙.\n",
    "\n",
    "* Возьмите какие-нибудь данные высокой размерности, чтобы задача обучения эмбеддингов имела смысл (например, картинки или тексты, желательно выбрать что-нибудь оригинальное). (?) Напишите, откуда брали данные и что это за данные\n",
    "* **(1.7 балла)** Придумайте или найдите какой-нибудь метод обучения эмбеддингов, примените его к данным и кластеризуйте полученные представления. Если чувствуете в себе достаточно силы, можете попробовать что-нибудь нейросетевое.\n",
    "* **(0.3 балла)** (?) Сравните ваш подход с базовыми алгоритмами кластеризации, которое мы рассмотрели в основном задании, не забывайте про визуализации! \n",
    "\n",
    "**Подсказка:**\n",
    "* Ключевые слова для вдохновения: ***KernelPCA***, ***UMAP***, ***autoencoders***, ***gensim***. "
   ]
  },
  {
   "cell_type": "code",
   "execution_count": null,
   "metadata": {
    "id": "sb68ky4oKgkh"
   },
   "outputs": [],
   "source": [
    "# YOUR CODE HERE ‿︵‿︵ヽ(°□° )ノ︵‿︵‿"
   ]
  },
  {
   "cell_type": "markdown",
   "metadata": {
    "id": "Pc2cw6ZA1KFW"
   },
   "source": [
    "**Задание 7 (0.1 балла)**. Используя литературный язык, изложите в культурной форме ваши ощущения от предыдущего ДЗ на ЕМ"
   ]
  },
  {
   "cell_type": "code",
   "execution_count": null,
   "metadata": {
    "id": "outk7jj91PuD"
   },
   "outputs": [],
   "source": [
    "# YOUR CODE HERE (ノಠ益ಠ)ノ彡┻━┻"
   ]
  }
 ],
 "metadata": {
  "colab": {
   "collapsed_sections": [
    "uK5GdpMuppA3",
    "Pr3WXyPBptaN",
    "TfWNOqFZii3J",
    "KTL9sgADKKah"
   ],
   "name": "homework-practice-unsupervised.ipynb",
   "provenance": []
  },
  "kernelspec": {
   "display_name": "Python 3",
   "language": "python",
   "name": "python3"
  },
  "language_info": {
   "codemirror_mode": {
    "name": "ipython",
    "version": 3
   },
   "file_extension": ".py",
   "mimetype": "text/x-python",
   "name": "python",
   "nbconvert_exporter": "python",
   "pygments_lexer": "ipython3",
   "version": "3.8.8"
  }
 },
 "nbformat": 4,
 "nbformat_minor": 1
}
